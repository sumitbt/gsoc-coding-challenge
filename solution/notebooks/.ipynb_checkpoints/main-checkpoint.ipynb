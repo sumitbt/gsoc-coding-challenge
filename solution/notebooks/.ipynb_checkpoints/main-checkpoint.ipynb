{
 "cells": [
  {
   "cell_type": "code",
   "execution_count": 76,
   "metadata": {},
   "outputs": [],
   "source": [
    "import requests\n",
    "from matplotlib import pyplot as plt\n",
    "import os\n",
    "import pickle\n",
    "import pandas as pd\n",
    "from ipyleaflet import Map, Polyline,Heatmap"
   ]
  },
  {
   "cell_type": "code",
   "execution_count": 83,
   "metadata": {},
   "outputs": [],
   "source": [
    "def initialize_data_dir():\n",
    "    path = './data'\n",
    "    if not os.path.isdir(path):\n",
    "        try:  \n",
    "            os.mkdir(path)\n",
    "        except OSError:  \n",
    "            print (\"Creation of the directory %s failed\" % path)\n",
    "            return False\n",
    "\n",
    "        loaded_tracks = set()\n",
    "        with open(path+'/loaded_tracks.pkl', 'wb') as out:\n",
    "            pickle.dump(loaded_tracks, out, pickle.HIGHEST_PROTOCOL)\n",
    "            del loaded_tracks\n",
    "\n",
    "        columns = ['track_id', 'length', 'feature_id', 'time', 'lattitude', 'longitude', 'consumption', 'speed', 'altitude', 'engine_load', 'accuracy', 'co2']\n",
    "        local_tracks = pd.DataFrame(columns = columns)\n",
    "        local_tracks.to_pickle(path+'/tracks.pkl')\n",
    "        del local_tracks\n",
    "\n",
    "def load_data():\n",
    "    path = './data'\n",
    "    initialize_data_dir()\n",
    "    with open(path+'/loaded_tracks.pkl', 'rb') as ip:\n",
    "        loaded_tracks = pickle.load(ip)\n",
    "    local_tracks = pd.read_pickle(path+'/tracks.pkl')\n",
    "\n",
    "    page_no = 1\n",
    "    n_new_tracks = 0\n",
    "    load = True\n",
    "    while load:\n",
    "        new_tracks = requests.get('https://envirocar.org/api/stable/tracks?limit=10&page='+str(page_no))\n",
    "        new_tracks = new_tracks.json()\n",
    "        for i in range(0, len(new_tracks['tracks'])):\n",
    "            new_track_id = new_tracks['tracks'][i]['id']\n",
    "            if new_track_id in loaded_tracks:\n",
    "                load = False\n",
    "                break\n",
    "            else:\n",
    "                #print(str(page)+' '+str(j)+' '+str(resp['tracks'][j]['id']))\n",
    "                loaded_tracks.add(new_track_id)\n",
    "                new_track = requests.get('https://envirocar.org/api/stable/tracks/'+new_track_id)\n",
    "                new_track = new_track.json()\n",
    "                length = new_track['properties']['length']\n",
    "                for i in range(0, len(new_track['features'])):\n",
    "                    feature = new_track['features'][i]\n",
    "                    feature_id = feature['properties']['id']\n",
    "                    time = feature['properties']['time']\n",
    "                    lattitude = feature['geometry']['coordinates'][0]\n",
    "                    longitude = feature['geometry']['coordinates'][1]\n",
    "                    try:\n",
    "                        consumption = feature['properties']['phenomenons']['Consumption']['value']\n",
    "                    except KeyError:\n",
    "                        consumption = None\n",
    "                    try:\n",
    "                        speed = feature['properties']['phenomenons']['Speed']['value']\n",
    "                    except KeyError:\n",
    "                        speed = None\n",
    "                    try:\n",
    "                        altitude = feature['properties']['phenomenons']['GPS Altitude']['value']\n",
    "                    except KeyError:\n",
    "                        altitude = None\n",
    "                    try:\n",
    "                        engine_load = feature['properties']['phenomenons']['Engine Load']['value']\n",
    "                    except KeyError:\n",
    "                        engine_load = None\n",
    "                    try:\n",
    "                        accuracy = feature['properties']['phenomenons']['GPS Accuracy']['value']\n",
    "                    except KeyError:\n",
    "                        accuracy = None\n",
    "                    try:\n",
    "                        co2 = feature['properties']['phenomenons']['CO2']['value']\n",
    "                    except KeyError:\n",
    "                        co2 = None\n",
    "                    local_tracks.loc[local_tracks.shape[0]] = [new_track_id, length, feature_id, time, lattitude, longitude, consumption, speed, altitude, engine_load, accuracy, co2]\n",
    "                n_new_tracks += 1\n",
    "        #print(page_no)\n",
    "        page_no += 1\n",
    "        break\n",
    "    with open(path+'/loaded_tracks.pkl', 'wb') as out:\n",
    "        pickle.dump(loaded_tracks, out, pickle.HIGHEST_PROTOCOL)\n",
    "    del loaded_tracks\n",
    "    tracks.to_pickle(path+'/tracks.pkl')        \n",
    "    print('%d new tracks are loaded' % n_new_tracks)\n",
    "    print('Total number of tracks = %d' % local_tracks.shape[0])\n",
    "    del local_tracks"
   ]
  },
  {
   "cell_type": "code",
   "execution_count": 84,
   "metadata": {},
   "outputs": [
    {
     "name": "stdout",
     "output_type": "stream",
     "text": [
      "10 new tracks are loaded\n",
      "Total number of tracks = 9925\n"
     ]
    }
   ],
   "source": [
    "load_data()"
   ]
  },
  {
   "cell_type": "code",
   "execution_count": 87,
   "metadata": {},
   "outputs": [
    {
     "data": {
      "text/html": [
       "<div>\n",
       "<style scoped>\n",
       "    .dataframe tbody tr th:only-of-type {\n",
       "        vertical-align: middle;\n",
       "    }\n",
       "\n",
       "    .dataframe tbody tr th {\n",
       "        vertical-align: top;\n",
       "    }\n",
       "\n",
       "    .dataframe thead th {\n",
       "        text-align: right;\n",
       "    }\n",
       "</style>\n",
       "<table border=\"1\" class=\"dataframe\">\n",
       "  <thead>\n",
       "    <tr style=\"text-align: right;\">\n",
       "      <th></th>\n",
       "      <th>track_id</th>\n",
       "      <th>length</th>\n",
       "      <th>feature_id</th>\n",
       "      <th>time</th>\n",
       "      <th>x_coordinate</th>\n",
       "      <th>y_coordinate</th>\n",
       "    </tr>\n",
       "  </thead>\n",
       "  <tbody>\n",
       "    <tr>\n",
       "      <th>0</th>\n",
       "      <td>5c93d27344ea8503020fdeb0</td>\n",
       "      <td>2.715751</td>\n",
       "      <td>5c93d27344ea8503020fdeb2</td>\n",
       "      <td>2019-03-21T05:52:54Z</td>\n",
       "      <td>7.824951</td>\n",
       "      <td>51.670491</td>\n",
       "    </tr>\n",
       "    <tr>\n",
       "      <th>1</th>\n",
       "      <td>5c93d27344ea8503020fdeb0</td>\n",
       "      <td>2.715751</td>\n",
       "      <td>5c93d27344ea8503020fdeb4</td>\n",
       "      <td>2019-03-21T05:52:59Z</td>\n",
       "      <td>7.824935</td>\n",
       "      <td>51.670328</td>\n",
       "    </tr>\n",
       "    <tr>\n",
       "      <th>2</th>\n",
       "      <td>5c93d27344ea8503020fdeb0</td>\n",
       "      <td>2.715751</td>\n",
       "      <td>5c93d27344ea8503020fdeb5</td>\n",
       "      <td>2019-03-21T05:53:04Z</td>\n",
       "      <td>7.824662</td>\n",
       "      <td>51.670244</td>\n",
       "    </tr>\n",
       "    <tr>\n",
       "      <th>3</th>\n",
       "      <td>5c93d27344ea8503020fdeb0</td>\n",
       "      <td>2.715751</td>\n",
       "      <td>5c93d27344ea8503020fdeb6</td>\n",
       "      <td>2019-03-21T05:53:09Z</td>\n",
       "      <td>7.824182</td>\n",
       "      <td>51.670381</td>\n",
       "    </tr>\n",
       "    <tr>\n",
       "      <th>4</th>\n",
       "      <td>5c93d27344ea8503020fdeb0</td>\n",
       "      <td>2.715751</td>\n",
       "      <td>5c93d27344ea8503020fdeb7</td>\n",
       "      <td>2019-03-21T05:53:14Z</td>\n",
       "      <td>7.823712</td>\n",
       "      <td>51.670441</td>\n",
       "    </tr>\n",
       "  </tbody>\n",
       "</table>\n",
       "</div>"
      ],
      "text/plain": [
       "                   track_id    length                feature_id  \\\n",
       "0  5c93d27344ea8503020fdeb0  2.715751  5c93d27344ea8503020fdeb2   \n",
       "1  5c93d27344ea8503020fdeb0  2.715751  5c93d27344ea8503020fdeb4   \n",
       "2  5c93d27344ea8503020fdeb0  2.715751  5c93d27344ea8503020fdeb5   \n",
       "3  5c93d27344ea8503020fdeb0  2.715751  5c93d27344ea8503020fdeb6   \n",
       "4  5c93d27344ea8503020fdeb0  2.715751  5c93d27344ea8503020fdeb7   \n",
       "\n",
       "                   time  x_coordinate  y_coordinate  \n",
       "0  2019-03-21T05:52:54Z      7.824951     51.670491  \n",
       "1  2019-03-21T05:52:59Z      7.824935     51.670328  \n",
       "2  2019-03-21T05:53:04Z      7.824662     51.670244  \n",
       "3  2019-03-21T05:53:09Z      7.824182     51.670381  \n",
       "4  2019-03-21T05:53:14Z      7.823712     51.670441  "
      ]
     },
     "execution_count": 87,
     "metadata": {},
     "output_type": "execute_result"
    }
   ],
   "source": [
    "t = pd.read_pickle('./data/tracks.pkl')\n",
    "t.head()"
   ]
  },
  {
   "cell_type": "code",
   "execution_count": 73,
   "metadata": {},
   "outputs": [
    {
     "data": {
      "application/vnd.jupyter.widget-view+json": {
       "model_id": "273997d18d464fabb3141aa4ca939a49",
       "version_major": 2,
       "version_minor": 0
      },
      "text/plain": [
       "Map(basemap={'url': 'https://{s}.tile.openstreetmap.org/{z}/{x}/{y}.png', 'max_zoom': 19, 'attribution': 'Map …"
      ]
     },
     "metadata": {},
     "output_type": "display_data"
    }
   ],
   "source": [
    "with open('./data/loaded_tracks.pkl', 'rb') as input:\n",
    "    loaded_tracks = pickle.load(input)\n",
    "m = Map(center = (tracks['y_coordinate'].mean(), tracks['x_coordinate'].mean()), zoom=8)\n",
    "point_set = []\n",
    "for t_id in loaded_tracks:\n",
    "    df = tracks.loc[tracks['track_id'] == t_id]\n",
    "    points = list()\n",
    "    for i in range(0, df.shape[0]):\n",
    "        points.append([df.iloc[i]['y_coordinate'], df.iloc[i]['x_coordinate']])\n",
    "    point_set.append(points)\n",
    "line = Polyline(locations = [point_set], fill=False, opacity=0.5)\n",
    "m.add_layer(line)\n",
    "m"
   ]
  },
  {
   "cell_type": "code",
   "execution_count": 72,
   "metadata": {},
   "outputs": [
    {
     "data": {
      "application/vnd.jupyter.widget-view+json": {
       "model_id": "dd01015e3cbe433c9596460465776e8e",
       "version_major": 2,
       "version_minor": 0
      },
      "text/plain": [
       "Map(basemap={'url': 'https://{s}.tile.openstreetmap.org/{z}/{x}/{y}.png', 'max_zoom': 19, 'attribution': 'Map …"
      ]
     },
     "metadata": {},
     "output_type": "display_data"
    }
   ],
   "source": [
    "from random import uniform\n",
    "m = Map(center=(tracks['y_coordinate'].mean(), tracks['x_coordinate'].mean()), zoom=8)\n",
    "\n",
    "point_set = []\n",
    "\n",
    "for i in range(0, tracks.shape[0]):\n",
    "    points = [tracks.iloc[i]['y_coordinate'], tracks.iloc[i]['x_coordinate'], tracks.iloc[i]['length']]\n",
    "    point_set.append(points)\n",
    "\n",
    "heatmap = Heatmap(\n",
    "    locations=point_set,\n",
    "    radius=5\n",
    ")\n",
    "\n",
    "m.add_layer(heatmap);\n",
    "#print(point_set)\n",
    "#print([[uniform(-80, 80), uniform(-180, 180), uniform(0, 1000)] for i in range(1000)])\n",
    "m"
   ]
  },
  {
   "cell_type": "code",
   "execution_count": null,
   "metadata": {},
   "outputs": [],
   "source": []
  }
 ],
 "metadata": {
  "kernelspec": {
   "display_name": "Python 3",
   "language": "python",
   "name": "python3"
  },
  "language_info": {
   "codemirror_mode": {
    "name": "ipython",
    "version": 3
   },
   "file_extension": ".py",
   "mimetype": "text/x-python",
   "name": "python",
   "nbconvert_exporter": "python",
   "pygments_lexer": "ipython3",
   "version": "3.6.7"
  }
 },
 "nbformat": 4,
 "nbformat_minor": 1
}
